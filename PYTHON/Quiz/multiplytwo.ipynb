{
 "cells": [
  {
   "cell_type": "code",
   "execution_count": null,
   "metadata": {},
   "outputs": [],
   "source": [
    "def find_pair_wiyth_product_20(arr):\n",
    "    n = len(arr)\n",
    "    \n",
    "    # Loop through each pair of elements in the array\n",
    "    for i in range(n):\n",
    "        for j in range(i + 1, n):\n",
    "            if arr[i] * arr[j] == 20:\n",
    "                return (arr[i], arr[j])\n",
    "    \n",
    "    # Return None if no such pair is found\n",
    "    return None\n",
    "\n",
    "# Example usage:\n",
    "array = [2, 5, 10, 4, 1, -5, -4]\n",
    "result = find_pair_with_product_20(array)\n",
    "print(result)  # Output: (4, 5)"
   ]
  },
  {
   "cell_type": "code",
   "execution_count": 24,
   "metadata": {},
   "outputs": [],
   "source": [
    "def find_pair_multiply(arr, x):\n",
    "    for i in range(len(arr)):\n",
    "        for j in range(i+1, len(arr)):\n",
    "            if arr[i] * arr[j] == x:\n",
    "                return (arr[i], arr[j])\n",
    "    return (f\"There are no two numbers which multiply by {x}.\")"
   ]
  },
  {
   "cell_type": "code",
   "execution_count": 25,
   "metadata": {},
   "outputs": [],
   "source": [
    "arr = [1,2,3,4,5,6,7,8,9,10]"
   ]
  },
  {
   "cell_type": "code",
   "execution_count": 26,
   "metadata": {},
   "outputs": [],
   "source": [
    "result = find_pair_multiply(arr, 42)\n",
    "outcome = find_pair_multiply(arr, 22)"
   ]
  },
  {
   "cell_type": "code",
   "execution_count": 28,
   "metadata": {},
   "outputs": [
    {
     "name": "stdout",
     "output_type": "stream",
     "text": [
      "(6, 7)\n"
     ]
    }
   ],
   "source": [
    "print(result)"
   ]
  },
  {
   "cell_type": "code",
   "execution_count": 29,
   "metadata": {},
   "outputs": [
    {
     "name": "stdout",
     "output_type": "stream",
     "text": [
      "There are no two numbers which multiply by 22.\n"
     ]
    }
   ],
   "source": [
    "print(outcome)"
   ]
  }
 ],
 "metadata": {
  "kernelspec": {
   "display_name": "base",
   "language": "python",
   "name": "python3"
  },
  "language_info": {
   "codemirror_mode": {
    "name": "ipython",
    "version": 3
   },
   "file_extension": ".py",
   "mimetype": "text/x-python",
   "name": "python",
   "nbconvert_exporter": "python",
   "pygments_lexer": "ipython3",
   "version": "3.12.2"
  }
 },
 "nbformat": 4,
 "nbformat_minor": 2
}
