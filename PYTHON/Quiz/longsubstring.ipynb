{
 "cells": [
  {
   "cell_type": "code",
   "execution_count": 6,
   "metadata": {},
   "outputs": [
    {
     "name": "stdout",
     "output_type": "stream",
     "text": [
      "3\n",
      "1\n",
      "3\n"
     ]
    }
   ],
   "source": [
    "class Solution:\n",
    "    def lengthOfLongestSubstring(self, s: str) -> int:\n",
    "        # Hash map to store the last positions of occurence\n",
    "        char_index_map = {}\n",
    "        # Initialize the start pointer and the max length\n",
    "        start = 0\n",
    "        max_length = 0\n",
    "\n",
    "        # Iterate over the string\n",
    "        for end in range(len(s)):\n",
    "            # If the character is already in the hash map and the index is within the current window\n",
    "            if s[end] in char_index_map and char_index_map[s[end]] >= start:\n",
    "                # Move the start pointer to the right of the previous occurence\n",
    "                start = char_index_map[s[end]] + 1\n",
    "\n",
    "            # Update the last seen index of the character\n",
    "            char_index_map[s[end]] = end\n",
    "\n",
    "            # Calculate the length of the current substring and update max_lengthif needed\n",
    "            max_length = max(max_length, end - start + 1)\n",
    "\n",
    "        return max_length\n",
    "    \n",
    "sol = Solution()\n",
    "\n",
    "print(sol.lengthOfLongestSubstring(\"abcabc\"))\n",
    "print(sol.lengthOfLongestSubstring(\"bbbbbb\"))\n",
    "print(sol.lengthOfLongestSubstring(\"pwwkew\"))\n"
   ]
  },
  {
   "cell_type": "code",
   "execution_count": null,
   "metadata": {},
   "outputs": [],
   "source": []
  }
 ],
 "metadata": {
  "kernelspec": {
   "display_name": "learnpy",
   "language": "python",
   "name": "python3"
  },
  "language_info": {
   "codemirror_mode": {
    "name": "ipython",
    "version": 3
   },
   "file_extension": ".py",
   "mimetype": "text/x-python",
   "name": "python",
   "nbconvert_exporter": "python",
   "pygments_lexer": "ipython3",
   "version": "3.12.2"
  }
 },
 "nbformat": 4,
 "nbformat_minor": 2
}
