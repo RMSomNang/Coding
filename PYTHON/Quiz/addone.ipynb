{
 "cells": [
  {
   "cell_type": "code",
   "execution_count": null,
   "metadata": {},
   "outputs": [],
   "source": [
    "def plus_one(digits):\n",
    "    n = len(digits)\n",
    "\n",
    "    # Traverse the list from the end to the beginning\n",
    "    for i in range(n - 1, -1, -1):\n",
    "        # If the current digit is less than 9, simply increment it by 1\n",
    "        if digits[i] < 9:\n",
    "            digits[i] += 1\n",
    "            return digits\n",
    "        \n",
    "        # Otherwise, set the current digit to 0 and continue to the next digit\n",
    "        digits[i] = 0\n",
    "\n",
    "    # If all digits are 9, we need an extra digit at the beginning\n",
    "    return [1] + digits\n",
    "\n",
    "# Example usage:\n",
    "print(plus_one([1, 2, 3]))  # Output: [1, 2, 4]\n",
    "print(plus_one([1, 9, 9]))  # Output: [2, 0, 0]\n",
    "print(plus_one([9, 9, 9]))  # Output: [1, 0, 0, 0]"
   ]
  },
  {
   "cell_type": "code",
   "execution_count": 2,
   "metadata": {},
   "outputs": [],
   "source": [
    "def plus_one(arr):\n",
    "    n = len(arr)\n",
    "\n",
    "    for i in range(n-1, -1, -1):\n",
    "        if arr[i] < 9:\n",
    "            arr[i] = arr[i] + 1\n",
    "            return arr\n",
    "        \n",
    "        arr[i] = 0\n",
    "\n",
    "    return [1] + arr"
   ]
  },
  {
   "cell_type": "code",
   "execution_count": 6,
   "metadata": {},
   "outputs": [],
   "source": [
    "arr1 = plus_one([1,2,3])\n",
    "arr2 = plus_one([1,9,9])\n",
    "arr3 = plus_one([9,9,9])"
   ]
  },
  {
   "cell_type": "code",
   "execution_count": 8,
   "metadata": {},
   "outputs": [
    {
     "name": "stdout",
     "output_type": "stream",
     "text": [
      "[1, 2, 4]\n",
      "[2, 0, 0]\n",
      "[1, 0, 0, 0]\n"
     ]
    }
   ],
   "source": [
    "print(arr1)\n",
    "print(arr2)\n",
    "print(arr3)"
   ]
  },
  {
   "cell_type": "code",
   "execution_count": 15,
   "metadata": {},
   "outputs": [],
   "source": [
    "def minus_one(arr):\n",
    "    n = len(arr)\n",
    "\n",
    "    for i in range(n-1,-1,-1):\n",
    "        if i > 0:\n",
    "            arr[i] -= 1\n",
    "            return arr\n",
    "        arr[i] = 9\n",
    "\n",
    "    return arr[1:]"
   ]
  },
  {
   "cell_type": "code",
   "execution_count": 16,
   "metadata": {},
   "outputs": [],
   "source": [
    "arr1 = minus_one([1,2,3])\n",
    "arr2 = minus_one([1,0,0])\n",
    "arr3 = minus_one([1,9,0])"
   ]
  },
  {
   "cell_type": "code",
   "execution_count": 18,
   "metadata": {},
   "outputs": [
    {
     "name": "stdout",
     "output_type": "stream",
     "text": [
      "[1, 2, 2]\n",
      "[1, 0, -1]\n",
      "[1, 9, -1]\n"
     ]
    }
   ],
   "source": [
    "print(arr1)\n",
    "print(arr2)\n",
    "print(arr3)"
   ]
  },
  {
   "cell_type": "code",
   "execution_count": 29,
   "metadata": {},
   "outputs": [],
   "source": [
    "def minus_one(arr):\n",
    "    if not arr:\n",
    "        return arr\n",
    "    \n",
    "    new_arr = arr[:]\n",
    "\n",
    "    n = len(new_arr) - 1\n",
    "    while n >= 0:\n",
    "        if new_arr[n] > 0:\n",
    "            new_arr[n] -= 1\n",
    "            break\n",
    "        else:\n",
    "            new_arr[n] = 9\n",
    "            n -= 1\n",
    "\n",
    "    if new_arr[0] == 0:\n",
    "        new_arr.pop(0)\n",
    "\n",
    "    return new_arr"
   ]
  },
  {
   "cell_type": "code",
   "execution_count": 30,
   "metadata": {},
   "outputs": [
    {
     "name": "stdout",
     "output_type": "stream",
     "text": [
      "[1, 2, 2]\n",
      "[9, 9]\n",
      "[1, 8, 9]\n"
     ]
    }
   ],
   "source": [
    "arr1 = minus_one([1,2,3])\n",
    "arr2 = minus_one([1,0,0])\n",
    "arr3 = minus_one([1,9,0])\n",
    "\n",
    "print(arr1)\n",
    "print(arr2)\n",
    "print(arr3)"
   ]
  },
  {
   "cell_type": "code",
   "execution_count": 31,
   "metadata": {},
   "outputs": [],
   "source": [
    "def minus_one(arr):\n",
    "    n = len(arr) - 1\n",
    "\n",
    "    while n >= 0:\n",
    "        if arr[n] > 0:\n",
    "            arr[n] -= 1\n",
    "            break\n",
    "        else:\n",
    "            arr[n] = 9\n",
    "            n -= 1\n",
    "\n",
    "    if arr[0] == 0:\n",
    "        arr = arr[1:]\n",
    "\n",
    "    return arr"
   ]
  },
  {
   "cell_type": "code",
   "execution_count": 32,
   "metadata": {},
   "outputs": [
    {
     "name": "stdout",
     "output_type": "stream",
     "text": [
      "[1, 2, 2]\n",
      "[9, 9]\n",
      "[1, 8, 9]\n"
     ]
    }
   ],
   "source": [
    "arr1 = minus_one([1,2,3])\n",
    "arr2 = minus_one([1,0,0])\n",
    "arr3 = minus_one([1,9,0])\n",
    "\n",
    "print(arr1)\n",
    "print(arr2)\n",
    "print(arr3)"
   ]
  }
 ],
 "metadata": {
  "kernelspec": {
   "display_name": "base",
   "language": "python",
   "name": "python3"
  },
  "language_info": {
   "codemirror_mode": {
    "name": "ipython",
    "version": 3
   },
   "file_extension": ".py",
   "mimetype": "text/x-python",
   "name": "python",
   "nbconvert_exporter": "python",
   "pygments_lexer": "ipython3",
   "version": "3.12.2"
  }
 },
 "nbformat": 4,
 "nbformat_minor": 2
}
