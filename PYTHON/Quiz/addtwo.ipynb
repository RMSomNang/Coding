{
 "cells": [
  {
   "cell_type": "code",
   "execution_count": 1,
   "metadata": {},
   "outputs": [],
   "source": [
    "from typing import Optional"
   ]
  },
  {
   "cell_type": "code",
   "execution_count": 2,
   "metadata": {},
   "outputs": [],
   "source": [
    "class ListNode:\n",
    "    def __init__(self, val = 0, next = None):\n",
    "        self.val = val\n",
    "        self.next = next"
   ]
  },
  {
   "cell_type": "code",
   "execution_count": 7,
   "metadata": {},
   "outputs": [
    {
     "name": "stdout",
     "output_type": "stream",
     "text": [
      "[7, 0, 8]\n",
      "[0]\n",
      "[8, 9, 9, 9, 0, 0, 0, 1]\n"
     ]
    }
   ],
   "source": [
    "from typing import Optional\n",
    "\n",
    "class ListNode:\n",
    "    def __init__(self, val=0, next=None):\n",
    "        self.val = val\n",
    "        self.next = next\n",
    "\n",
    "class Solution:\n",
    "    def addTwoNumbers(self, l1: Optional[ListNode], l2: Optional[ListNode]) -> Optional[ListNode]:\n",
    "        # Initialize a dummy node to build the result list\n",
    "        dummy = ListNode(0)\n",
    "        current = dummy\n",
    "        carry = 0\n",
    "\n",
    "        # Loop through lists l1 and l2 until both are empty\n",
    "        while l1 or l2:\n",
    "            # Get the values of the current nodes, or 0 if the list is empty\n",
    "            x = l1.val if l1 else 0\n",
    "            y = l2.val if l2 else 0\n",
    "\n",
    "            # Calculate the sum and the carry\n",
    "            total = carry + x + y\n",
    "            carry = total // 10\n",
    "\n",
    "            # Create a new node with the digit value (total % 10) and attach it to the result list\n",
    "            current.next = ListNode(total % 10)\n",
    "            current = current.next\n",
    "\n",
    "            # Move to the next nodes in l1 and l2\n",
    "            if l1: l1 = l1.next\n",
    "            if l2: l2 = l2.next\n",
    "\n",
    "        # If there is a carry left after the final addition, add a new node with carry value\n",
    "        if carry > 0:\n",
    "            current.next = ListNode(carry)\n",
    "\n",
    "        # Return the next node of the dummy node, which is the start of the result list\n",
    "        return dummy.next\n",
    "\n",
    "# Helper function to convert list to linked list\n",
    "def to_linked_list(lst):\n",
    "    head = current = ListNode(lst[0])\n",
    "    for num in lst[1:]:\n",
    "        current.next = ListNode(num)\n",
    "        current = current.next\n",
    "    return head\n",
    "\n",
    "# Helper function to convert linked list to list\n",
    "def to_list(node):\n",
    "    lst = []\n",
    "    while node:\n",
    "        lst.append(node.val)\n",
    "        node = node.next\n",
    "    return lst\n",
    "\n",
    "# Example usage:\n",
    "l1 = to_linked_list([2, 4, 3])\n",
    "l2 = to_linked_list([5, 6, 4])\n",
    "sol = Solution()\n",
    "result = sol.addTwoNumbers(l1, l2)\n",
    "print(to_list(result))  # Output: [7, 0, 8]\n",
    "\n",
    "l1 = to_linked_list([0])\n",
    "l2 = to_linked_list([0])\n",
    "result = sol.addTwoNumbers(l1, l2)\n",
    "print(to_list(result))  # Output: [0]\n",
    "\n",
    "l1 = to_linked_list([9, 9, 9, 9, 9, 9, 9])\n",
    "l2 = to_linked_list([9, 9, 9, 9])\n",
    "result = sol.addTwoNumbers(l1, l2)\n",
    "print(to_list(result))  # Output: [8, 9, 9, 9, 0, 0, 0, 1]\n"
   ]
  },
  {
   "cell_type": "code",
   "execution_count": null,
   "metadata": {},
   "outputs": [],
   "source": []
  }
 ],
 "metadata": {
  "kernelspec": {
   "display_name": "learnpy",
   "language": "python",
   "name": "python3"
  },
  "language_info": {
   "codemirror_mode": {
    "name": "ipython",
    "version": 3
   },
   "file_extension": ".py",
   "mimetype": "text/x-python",
   "name": "python",
   "nbconvert_exporter": "python",
   "pygments_lexer": "ipython3",
   "version": "3.10.14"
  }
 },
 "nbformat": 4,
 "nbformat_minor": 2
}
